{
 "cells": [
  {
   "cell_type": "markdown",
   "id": "546673bd-b9ae-42b1-9823-cf915abab6ed",
   "metadata": {},
   "source": [
    "# Extraction des données"
   ]
  },
  {
   "cell_type": "code",
   "execution_count": null,
   "id": "c8d56c4e-929a-47b4-a4e8-2604ac8fc159",
   "metadata": {},
   "outputs": [],
   "source": [
    "from extract_data import *"
   ]
  },
  {
   "cell_type": "markdown",
   "id": "60e26a18-0a0b-4b38-ac3f-6ba91ca1b31e",
   "metadata": {},
   "source": [
    "## Extraction des fichiers xml\n",
    "Requirement : Les fichier xml"
   ]
  },
  {
   "cell_type": "code",
   "execution_count": null,
   "id": "8b5e21aa-d367-45c2-8fb1-d7e6c3493e27",
   "metadata": {},
   "outputs": [],
   "source": [
    "path_to_xml= \"Data/data_xml\"\n",
    "file_output= \"Data/data.json\"\n",
    "D= data_to_json(path_to_xml)\n",
    "with open(file_output, 'w',encoding=\"utf-8\") as f:\n",
    "    json.dump(D,f,indent=2)\n",
    "print(f'{file_output} with {len(D)} scores created.')"
   ]
  },
  {
   "cell_type": "markdown",
   "id": "1ea826b3-a058-48d6-9a0b-766a2fcd14ed",
   "metadata": {},
   "source": [
    "## Extraction des mélodies\n",
    "Requirement : Le fichier data.json"
   ]
  },
  {
   "cell_type": "code",
   "execution_count": null,
   "id": "1e85398c-1bc4-408d-a8a8-1364ca409c63",
   "metadata": {},
   "outputs": [],
   "source": [
    "filename=\"dataset\"\n",
    "size_melody= 1000 #en mesure ( 1000 = max de la partie )\n",
    "time_signatures=set([\"2/4\"]) #prend toutes les time signatures par default\n",
    "\n",
    "n=json_into_melody(\"Data/data.json\",output_file=filename,size=size_melody,time_signatures=time_signatures)\n",
    "print(f\"Toutes les melodies ({n}) ont étés générées.\")\n",
    "\n",
    "filename=\"dataset3\"\n",
    "size_melody= 3 #en mesure ( 1000 = max de la partie )\n",
    "time_signatures=set([\"2/4\"]) #prend toutes les time signatures par default\n",
    "\n",
    "parts_len=json_into_part_melody(\"Data/data.json\",output_file=filename,size=size_melody,time_signatures=time_signatures)\n",
    "print(\"Toutes les melodies ont étés générées par parties. Tailles des parties : \"+\" \".join([f\"{key} : {length} \" for key,length in parts_len]))\n"
   ]
  },
  {
   "cell_type": "markdown",
   "id": "0d0a6c0d-48e2-443d-83e2-a07bd1df5305",
   "metadata": {},
   "source": [
    "## Creation dataset.json incomplet (1 mesure sur 2)"
   ]
  },
  {
   "cell_type": "code",
   "execution_count": null,
   "id": "c18b69fb-2b24-426d-8ccb-61aa40fbf5b4",
   "metadata": {},
   "outputs": [],
   "source": [
    "D= data_to_json_incomplete(\"data\")\n",
    "file_output= \"Data/dataset_incomplet.json\"\n",
    "with open(file_output, 'w',encoding=\"utf-8\") as f:\n",
    "    json.dump(D,f,indent=2)\n",
    "print(f'{file_output} with {len(D)} scores created.')"
   ]
  },
  {
   "cell_type": "markdown",
   "id": "77ecb23f-ec93-4fbd-99c0-c0e72820027a",
   "metadata": {},
   "source": [
    "---"
   ]
  },
  {
   "cell_type": "markdown",
   "id": "05ee3227-a48f-4d71-b711-4fac38a9ae91",
   "metadata": {},
   "source": [
    "###  Visualiser une partition"
   ]
  },
  {
   "cell_type": "code",
   "execution_count": null,
   "id": "a445a81a-334d-46d9-b506-3a6c2f3e070c",
   "metadata": {},
   "outputs": [],
   "source": [
    "filename= \"SÃO JOÃO DO SAPOTI.xml\"\n",
    "s=open_one_xml(path_to_xml,filename)\n",
    "show_stat(s)"
   ]
  },
  {
   "cell_type": "code",
   "execution_count": null,
   "id": "ae1c91f7-a2b9-4844-ba70-f18c63794453",
   "metadata": {},
   "outputs": [],
   "source": []
  }
 ],
 "metadata": {
  "kernelspec": {
   "display_name": "Python 3",
   "language": "python",
   "name": "python3"
  },
  "language_info": {
   "codemirror_mode": {
    "name": "ipython",
    "version": 3
   },
   "file_extension": ".py",
   "mimetype": "text/x-python",
   "name": "python",
   "nbconvert_exporter": "python",
   "pygments_lexer": "ipython3",
   "version": "3.11.2"
  }
 },
 "nbformat": 4,
 "nbformat_minor": 5
}
