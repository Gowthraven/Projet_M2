{
 "cells": [
  {
   "cell_type": "markdown",
   "id": "546673bd-b9ae-42b1-9823-cf915abab6ed",
   "metadata": {},
   "source": [
    "# Extraction des données"
   ]
  },
  {
   "cell_type": "code",
   "execution_count": 1,
   "id": "c8d56c4e-929a-47b4-a4e8-2604ac8fc159",
   "metadata": {},
   "outputs": [],
   "source": [
    "from extract_data import *"
   ]
  },
  {
   "cell_type": "markdown",
   "id": "60e26a18-0a0b-4b38-ac3f-6ba91ca1b31e",
   "metadata": {},
   "source": [
    "## Extraction des fichiers xml\n",
    "Requirement : Les fichier xml"
   ]
  },
  {
   "cell_type": "code",
   "execution_count": 2,
   "id": "8b5e21aa-d367-45c2-8fb1-d7e6c3493e27",
   "metadata": {},
   "outputs": [
    {
     "name": "stdout",
     "output_type": "stream",
     "text": [
      "data/data.json with 171 scores created.\n"
     ]
    }
   ],
   "source": [
    "path_to_xml= \"data/data_xml\"\n",
    "file_output= \"data/data.json\"\n",
    "D= data_to_json(path_to_xml)\n",
    "with open(file_output, 'w',encoding=\"utf-8\") as f:\n",
    "    json.dump(D,f,indent=2)\n",
    "print(f'{file_output} with {len(D)} scores created.')"
   ]
  },
  {
   "cell_type": "markdown",
   "id": "1ea826b3-a058-48d6-9a0b-766a2fcd14ed",
   "metadata": {},
   "source": [
    "## Extraction des mélodies\n",
    "Requirement : Le fichier data.json"
   ]
  },
  {
   "cell_type": "code",
   "execution_count": 3,
   "id": "1e85398c-1bc4-408d-a8a8-1364ca409c63",
   "metadata": {},
   "outputs": [
    {
     "name": "stdout",
     "output_type": "stream",
     "text": [
      "Toutes les melodies (434) ont étés générées.\n",
      "Toutes les melodies ont étés générées par parties. Tailles des parties : A : 169  C : 97  B : 166  D : 2 \n"
     ]
    }
   ],
   "source": [
    "n=json_into_x_melody(\"data/data.json\")\n",
    "print(f\"Toutes les melodies ({n}) ont étés générées.\")\n",
    "parts_len=json_into_part_melody(\"data/data.json\")\n",
    "print(\"Toutes les melodies ont étés générées par parties. Tailles des parties : \"+\" \".join([f\"{key} : {length} \" for key,length in parts_len]))\n"
   ]
  },
  {
   "cell_type": "code",
   "execution_count": 2,
   "id": "c18b69fb-2b24-426d-8ccb-61aa40fbf5b4",
   "metadata": {},
   "outputs": [
    {
     "name": "stdout",
     "output_type": "stream",
     "text": [
      "data/dataset_incomplet.json with 165 scores created.\n"
     ]
    }
   ],
   "source": [
    "D= data_to_json_incomplete(\"data\")\n",
    "file_output= \"data/dataset_incomplet.json\"\n",
    "with open(file_output, 'w',encoding=\"utf-8\") as f:\n",
    "    json.dump(D,f,indent=2)\n",
    "print(f'{file_output} with {len(D)} scores created.')"
   ]
  },
  {
   "cell_type": "code",
   "execution_count": 49,
   "id": "98682d8d-9d07-4491-8cad-d93a87100658",
   "metadata": {},
   "outputs": [
    {
     "name": "stdout",
     "output_type": "stream",
     "text": [
      "[('C', 4156), ('B', 7506), ('A', 8322), ('D', 60)]\n"
     ]
    }
   ],
   "source": [
    "\n",
    "\n",
    "\n",
    "melodies=json_into_x_melody2(\"data/data.json\",3)\n",
    "melodies=json_into_part_melody2(\"data/data.json\",3)\n",
    "print(melodies)\n",
    "    \n"
   ]
  },
  {
   "cell_type": "code",
   "execution_count": 48,
   "id": "07c338a9-9c1d-4474-9f3b-8628f1b56171",
   "metadata": {},
   "outputs": [
    {
     "name": "stdout",
     "output_type": "stream",
     "text": [
      "Toutes les melodies (434) ont étés générées.\n",
      "Toutes les melodies ont étés générées par parties. Tailles des parties : C : 97  B : 166  A : 169  D : 2 \n"
     ]
    }
   ],
   "source": [
    "n=json_into_x_melody2(\"data/data.json\")\n",
    "print(f\"Toutes les melodies ({n}) ont étés générées.\")\n",
    "parts_len=json_into_part_melody2(\"data/data.json\")\n",
    "print(\"Toutes les melodies ont étés générées par parties. Tailles des parties : \"+\" \".join([f\"{key} : {length} \" for key,length in parts_len]))\n"
   ]
  },
  {
   "cell_type": "markdown",
   "id": "77ecb23f-ec93-4fbd-99c0-c0e72820027a",
   "metadata": {},
   "source": [
    "---"
   ]
  },
  {
   "cell_type": "markdown",
   "id": "35f29941-adcb-4c51-8172-ba35a096709e",
   "metadata": {},
   "source": [
    "***"
   ]
  },
  {
   "cell_type": "markdown",
   "id": "05ee3227-a48f-4d71-b711-4fac38a9ae91",
   "metadata": {},
   "source": [
    "###  Visualiser une partition"
   ]
  },
  {
   "cell_type": "code",
   "execution_count": null,
   "id": "a445a81a-334d-46d9-b506-3a6c2f3e070c",
   "metadata": {},
   "outputs": [],
   "source": [
    "filename= \"A GINGA DO MANÉ .xml\"\n",
    "s=open_one_xml(path,filename)\n",
    "show_stat(s)"
   ]
  }
 ],
 "metadata": {
  "kernelspec": {
   "display_name": "kernel_pytorch",
   "language": "python",
   "name": "envtorch"
  },
  "language_info": {
   "codemirror_mode": {
    "name": "ipython",
    "version": 3
   },
   "file_extension": ".py",
   "mimetype": "text/x-python",
   "name": "python",
   "nbconvert_exporter": "python",
   "pygments_lexer": "ipython3",
   "version": "3.7.16"
  }
 },
 "nbformat": 4,
 "nbformat_minor": 5
}
