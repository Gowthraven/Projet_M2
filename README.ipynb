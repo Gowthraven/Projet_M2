{
 "cells": [
  {
   "cell_type": "markdown",
   "id": "29ec736c-d585-4f0f-9e70-910019a230e5",
   "metadata": {},
   "source": [
    "# Harmony and Form in Brazilian Choro: A Data-Driven Approach to Musical Style Analysis\n",
    "\n",
    "[![DOI](https://zenodo.org/badge/DOI/10.5281/zenodo.1442765.svg)](https://doi.org/10.5281/zenodo.1442765)\n",
    "\n",
    "This project is one of the corpus projects conducted at the [Digital and Cognitive Musicology Lab (DCML)](http://dcml.epfl.ch/) at EPFL, Lausanne, Switzerland. For any questions regarding this project contact Fabian C. Moss (fabian.moss@epfl.ch) or Willian Fernandes Souza (willianfersou@yahoo.com.br).\n",
    "\n",
    "## Abstract\n",
    "The impetus of digital musicology and computational music analysis in recent years can largely be attributed to the increased creation of symbolic corpora. While covering diverse genres, encodings, formats, and methodologies, most datasets focus on melody and harmony to describe or infer idiosyncrasies of a certain style, genre, or composer. The current project contributes to this trend and aims at complementing data-driven approaches to musical style analysis by studying Choro, a Brazilian music genre beyond canonical datasets in computational research on classical  and popular music. A newly created dataset of transcriptions of chord symbols and the formal structure of pieces from the three volumes of the *Choro Songbook* (Chediak, Sève, Souza, & Dininho, 2009, 2011a, 2011b) is presented and analyzed against the backdrop of the textbook *A estrutura do Choro* (Almada, 2006) which contains a number of assumptions about this genre. The findings show that Choro composers employ different harmonic relations for chord transitions (recurring harmonic patterns) and key transitions within pieces, that the harmonies in regular 16- and 32-bar phrases conform to the hypermetrical structure of these phrases, and that historically older compositions employ chords with fewer modifications than younger pieces. These results constitute the first quantitative large-scale investigation of Choro and reveal central stylistic features of this musical idiom.\n",
    "\n",
    "**References**\n",
    "\n",
    "* Almada, C. (2006). A estrutura do choro. Rio de Janeiro: Editora Da Fonseca.\n",
    "* Chediak, A., Sève, M., Souza, R., Dininho. (2009). Choro Songbook, volume 1. São Paulo: Lumiar Editora.\n",
    "* Chediak, A., Sève, M., Souza, R., Dininho. (2011a). Choro Songbook, volume 2. São Paulo: Lumiar Editora.\n",
    "* Chediak, A., Sève, M., Souza, R., Dininho. (2011b). Choro Songbook, volume 1. São Paulo: Lumiar Editora.\n",
    "\n",
    "## Data Description\n",
    "\n",
    "The data from all transcriptions is stored in `\\data\\choro.csv`. The individual transcriptions can be found in the `\\data\\transcriptions` folder. It contains the following columns:\n",
    "\n",
    "**Key and Meter**\n",
    "- `global_key`: global key per piece (e.g. `F`, `Dm`)\n",
    "- `local_key`: local key at chord position\n",
    "- `relative_key`: local key relative to the global key (e.g. `V`, `IIm`)\n",
    "- `global_mode`: either `major` or `minor`\n",
    "- `local_mode`: either `major` or `minor`\n",
    "- `global_meter`: global meter per piece (e.g. `2/2`)\n",
    "- `local_meter`: local meter at chord position\n",
    "    \n",
    " **Form**\n",
    " - `path`: path from chord symbol to root node (e.g. `['P1', 'PartA', 'S']`)\n",
    " - `phrase`: phrase of chord symbol (e.g. `P1`) \n",
    " - `part`: part of chord symbol (e.g. `PartA`)\n",
    "    \n",
    "**Chords**\n",
    "- `bar_no`: bar number \n",
    "- `duration`: duration in quarter notes (e.g. `0.5` for a 1/2 note)\n",
    "- `chord`: chord symbol as transcribed\n",
    "- `root`: root note\n",
    "- `rn_chord`: Roman numeral chord symbol (e.g. `V7(b9)`)\n",
    "- `sd`: scale degree\n",
    "- `type`: chord type (e.g. `m`, `o`)\n",
    "- `added`: sixths and sevenths\n",
    "- `extensions`: other chord extensions\n",
    "- `bass_note`: bass note\n",
    "\n",
    "**Metadata**\n",
    "- `songbook`: songbook volume\n",
    "- `title`: title of the piece\n",
    "- `composer`: composer name(s)\n",
    "- `sub_genre`: sub-genre\n",
    "- `year`: year of composition (if available)\n",
    "- `filename`: filename of the transcription"
   ]
  }
 ],
 "metadata": {
  "kernelspec": {
   "display_name": "kernel_pytorch",
   "language": "python",
   "name": "envtorch"
  },
  "language_info": {
   "codemirror_mode": {
    "name": "ipython",
    "version": 3
   },
   "file_extension": ".py",
   "mimetype": "text/x-python",
   "name": "python",
   "nbconvert_exporter": "python",
   "pygments_lexer": "ipython3",
   "version": "3.7.16"
  }
 },
 "nbformat": 4,
 "nbformat_minor": 5
}
