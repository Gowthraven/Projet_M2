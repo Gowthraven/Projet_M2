{
 "cells": [
  {
   "cell_type": "markdown",
   "id": "1228d92c-f1c5-4a02-925c-822a33c12f56",
   "metadata": {},
   "source": [
    "## Visualisation"
   ]
  },
  {
   "cell_type": "code",
   "execution_count": 1,
   "id": "d9094875-5d19-464b-b62d-f22e7c3571e6",
   "metadata": {},
   "outputs": [],
   "source": [
    "import music21\n",
    "import os\n",
    "from music21 import *\n",
    "import json\n",
    "from visualization import *\n",
    "from extract_data import *\n",
    "import numpy as np"
   ]
  },
  {
   "cell_type": "markdown",
   "id": "899ee674-cc3d-4b33-abfe-b643e8a9fd75",
   "metadata": {},
   "source": [
    "### Configuration musescore/music21 (si jamais fait)"
   ]
  },
  {
   "cell_type": "code",
   "execution_count": null,
   "id": "9cc97955-4b8a-44f6-a56a-a134a987fe70",
   "metadata": {},
   "outputs": [],
   "source": [
    "#Morgan (Windows)\n",
    "#music21.environment.set('musescoreDirectPNGPath',str(os.path.join(\"C:\\\\\", \"Program Files\",\"MuseScore 4\",\"bin\",\"MuseScore4.exe\")))\n",
    "#music21.environment.set('musicxmlPath', str(os.path.join(\"C:\\\\\", \"Program Files\",\"MuseScore 4\",\"bin\",\"MuseScore4.exe\")))\n",
    "#music21.environment.set('lilypondPath', r'C:\\Users\\jeffs\\lilypond-2.24.2\\bin\\lilypond.exe')"
   ]
  },
  {
   "cell_type": "code",
   "execution_count": null,
   "id": "53688af8-86a1-4bbd-9c31-df316095c07c",
   "metadata": {},
   "outputs": [],
   "source": [
    "#Enguerran (Windows)\n",
    "#music21.environment.set('musescoreDirectPNGPath',str(os.path.join(\"C:\\\\\", \"Program Files\",\"MuseScore 4\",\"bin\",\"MuseScore4.exe\")))\n",
    "#music21.environment.set('musicxmlPath', str(os.path.join(\"C:\\\\\", \"Program Files\",\"MuseScore 4\",\"bin\",\"MuseScore4.exe\")))\n",
    "#music21.environment.set('lilypondPath', r'C:\\Users\\jeffs\\lilypond-2.24.2\\bin\\lilypond.exe')"
   ]
  },
  {
   "cell_type": "markdown",
   "id": "c8a86baf-dfa8-45c9-b522-a39ca66d8b00",
   "metadata": {},
   "source": [
    "## Visualiser tout un fichier generated (longue melodies)"
   ]
  },
  {
   "cell_type": "code",
   "execution_count": 8,
   "id": "db3540d6-d661-4e4f-8712-3ceba2b23977",
   "metadata": {},
   "outputs": [
    {
     "name": "stderr",
     "output_type": "stream",
     "text": [
      "meter: WARNING: Found a messed up beam pair <music21.beam.Beams <music21.beam.Beam 1/start>/<music21.beam.Beam 2/partial/right>>, <music21.beam.Beams <music21.beam.Beam 1/stop>/<music21.beam.Beam 2/stop>>, at index 3 of \n",
      "[None, None, None, <music21.beam.Beams <music21.beam.Beam 1/start>/<music21.beam.Beam 2/partial/right>>, <music21.beam.Beams <music21.beam.Beam 1/stop>/<music21.beam.Beam 2/stop>>]\n"
     ]
    }
   ],
   "source": [
    "fileName=\"Markov/Markov_1\"\n",
    "\n",
    "show_all_generated(f\"Generation/Generated/{fileName}.json\").show(\"musicxml\")"
   ]
  },
  {
   "cell_type": "markdown",
   "id": "f73b08a8-6dfb-4d93-b448-afdfc2d9432b",
   "metadata": {},
   "source": [
    "## Visualiser tout un fichier generated (courte melodies / originales)\n",
    "##### ( Seul les fichiers generated avec des courtes melodies sont visualisables)"
   ]
  },
  {
   "cell_type": "code",
   "execution_count": null,
   "id": "202923ae",
   "metadata": {},
   "outputs": [],
   "source": [
    "fileName=\"LSTM/melody4_mode0\"\n",
    "\n",
    "compare_all_generated(f\"Generation/Generated/{fileName}.json\").show(\"musicxml\")"
   ]
  },
  {
   "cell_type": "markdown",
   "id": "2cb6732c-71fc-47f5-8b2b-831978a3da9b",
   "metadata": {},
   "source": [
    "## Visualiser ( une longue melodie / originale )\n",
    "##### ( Markov ne possede pas d'original)"
   ]
  },
  {
   "cell_type": "code",
   "execution_count": 11,
   "id": "1f5f1b35",
   "metadata": {},
   "outputs": [
    {
     "ename": "KeyError",
     "evalue": "'Original'",
     "output_type": "error",
     "traceback": [
      "\u001b[1;31m---------------------------------------------------------------------------\u001b[0m",
      "\u001b[1;31mKeyError\u001b[0m                                  Traceback (most recent call last)",
      "\u001b[1;32mC:\\Users\\jeffs\\AppData\\Local\\Temp\\ipykernel_4264\\3669703364.py\u001b[0m in \u001b[0;36m<module>\u001b[1;34m\u001b[0m\n\u001b[0;32m      1\u001b[0m \u001b[0mfileName\u001b[0m\u001b[1;33m==\u001b[0m\u001b[1;34m\"LSTM/melody4_mode0\"\u001b[0m\u001b[1;33m\u001b[0m\u001b[1;33m\u001b[0m\u001b[0m\n\u001b[0;32m      2\u001b[0m \u001b[0mnum_melodie\u001b[0m\u001b[1;33m=\u001b[0m\u001b[1;36m2\u001b[0m\u001b[1;33m\u001b[0m\u001b[1;33m\u001b[0m\u001b[0m\n\u001b[1;32m----> 3\u001b[1;33m \u001b[0mcompare_generated\u001b[0m\u001b[1;33m(\u001b[0m\u001b[0mnum_melodie\u001b[0m\u001b[1;33m,\u001b[0m\u001b[1;34mf\"Generation/Generated/{fileName}.json\"\u001b[0m\u001b[1;33m)\u001b[0m\u001b[1;33m.\u001b[0m\u001b[0mshow\u001b[0m\u001b[1;33m(\u001b[0m\u001b[1;34m\"musicxml\"\u001b[0m\u001b[1;33m)\u001b[0m\u001b[1;33m\u001b[0m\u001b[1;33m\u001b[0m\u001b[0m\n\u001b[0m",
      "\u001b[1;32mC:\\Users\\jeffs\\Downloads\\Projet_M2\\Projet_M2-main\\visualization.py\u001b[0m in \u001b[0;36mcompare_generated\u001b[1;34m(i, file_name)\u001b[0m\n\u001b[0;32m    197\u001b[0m \u001b[1;33m\u001b[0m\u001b[0m\n\u001b[0;32m    198\u001b[0m     \u001b[0mtime_signature\u001b[0m \u001b[1;33m=\u001b[0m \u001b[1;34m\"2/4\"\u001b[0m  \u001b[1;31m# À modifier si nécessaire\u001b[0m\u001b[1;33m\u001b[0m\u001b[1;33m\u001b[0m\u001b[0m\n\u001b[1;32m--> 199\u001b[1;33m     \u001b[0mmelodies\u001b[0m \u001b[1;33m=\u001b[0m \u001b[1;33m[\u001b[0m\u001b[0mgenerated\u001b[0m\u001b[1;33m[\u001b[0m\u001b[0mi\u001b[0m \u001b[1;33m-\u001b[0m \u001b[1;36m1\u001b[0m\u001b[1;33m]\u001b[0m\u001b[1;33m[\u001b[0m\u001b[1;34m\"Generated\"\u001b[0m\u001b[1;33m]\u001b[0m\u001b[1;33m,\u001b[0m \u001b[0mgenerated\u001b[0m\u001b[1;33m[\u001b[0m\u001b[0mi\u001b[0m \u001b[1;33m-\u001b[0m \u001b[1;36m1\u001b[0m\u001b[1;33m]\u001b[0m\u001b[1;33m[\u001b[0m\u001b[1;34m\"Original\"\u001b[0m\u001b[1;33m]\u001b[0m\u001b[1;33m]\u001b[0m\u001b[1;33m\u001b[0m\u001b[1;33m\u001b[0m\u001b[0m\n\u001b[0m\u001b[0;32m    200\u001b[0m     \u001b[0mkeys\u001b[0m \u001b[1;33m=\u001b[0m \u001b[1;33m[\u001b[0m\u001b[0mgenerated\u001b[0m\u001b[1;33m[\u001b[0m\u001b[0mi\u001b[0m \u001b[1;33m-\u001b[0m \u001b[1;36m1\u001b[0m\u001b[1;33m]\u001b[0m\u001b[1;33m[\u001b[0m\u001b[1;34m\"Key\"\u001b[0m\u001b[1;33m]\u001b[0m\u001b[1;33m,\u001b[0m \u001b[0mgenerated\u001b[0m\u001b[1;33m[\u001b[0m\u001b[0mi\u001b[0m \u001b[1;33m-\u001b[0m \u001b[1;36m1\u001b[0m\u001b[1;33m]\u001b[0m\u001b[1;33m[\u001b[0m\u001b[1;34m\"Key\"\u001b[0m\u001b[1;33m]\u001b[0m\u001b[1;33m]\u001b[0m\u001b[1;33m\u001b[0m\u001b[1;33m\u001b[0m\u001b[0m\n\u001b[0;32m    201\u001b[0m \u001b[1;33m\u001b[0m\u001b[0m\n",
      "\u001b[1;31mKeyError\u001b[0m: 'Original'"
     ]
    }
   ],
   "source": [
    "fileName==\"LSTM/melody4_mode0\"\n",
    "num_melodie=2\n",
    "compare_generated(num_melodie,f\"Generation/Generated/{fileName}.json\").show(\"musicxml\")"
   ]
  },
  {
   "cell_type": "code",
   "execution_count": null,
   "id": "e98963a2",
   "metadata": {},
   "outputs": [],
   "source": []
  },
  {
   "cell_type": "code",
   "execution_count": null,
   "id": "12185038-59e4-4777-975b-de2246cba0c5",
   "metadata": {},
   "outputs": [],
   "source": [
    "  \n",
    "fileName=\"Generation/Generated/Transformer/melody3_mode2_top20.json\"\n",
    "avg,std=compute_stat(fileName)\n",
    "print(avg,std)"
   ]
  },
  {
   "cell_type": "code",
   "execution_count": null,
   "id": "321a7398",
   "metadata": {
    "scrolled": true
   },
   "outputs": [],
   "source": [
    "show_all_generated(f\"Generation/Generated/{fileName}.json\").show(\"musicxml\")"
   ]
  },
  {
   "cell_type": "code",
   "execution_count": null,
   "id": "d808a6a5",
   "metadata": {},
   "outputs": [],
   "source": [
    "score=show_all_generated(f\"Generation/Generated/{fileName}.json\")"
   ]
  },
  {
   "cell_type": "code",
   "execution_count": null,
   "id": "e9b57bc6",
   "metadata": {},
   "outputs": [],
   "source": [
    "path=\"Data/data_xml\"\n",
    "s=open_one_xml(path,\"SAMAMBAIA.xml\")\n",
    "show_stat(s)"
   ]
  },
  {
   "cell_type": "code",
   "execution_count": null,
   "id": "fded5991",
   "metadata": {},
   "outputs": [],
   "source": [
    "visualize_test(\"2/4\",[\"F\"],[\"A4\",<0.5, A4-0.5, D4-0.5, B3-1.0, A4-2.0, B3-0.25, D4-0.5, D4-0.5, D4-0.5, B3-0.25\"]).show()"
   ]
  },
  {
   "cell_type": "code",
   "execution_count": null,
   "id": "e6e7430d",
   "metadata": {},
   "outputs": [],
   "source": []
  },
  {
   "cell_type": "code",
   "execution_count": null,
   "id": "d75ef3ed",
   "metadata": {},
   "outputs": [],
   "source": [
    "from music21 import stream, note, tie\n",
    "\n",
    "# Créer une mesure avec une note\n",
    "measure1 = stream.Measure()\n",
    "note1 = note.Note(\"C4\", quarterLength=1.0)\n",
    "measure1.append(note1)\n",
    "\n",
    "# Créer une mesure suivante avec la même note\n",
    "measure2 = stream.Measure()\n",
    "note2 = note.Note(\"C4\", quarterLength=1.0)\n",
    "measure2.append(note2)\n",
    "\n",
    "# Créer une liaison entre les deux notes\n",
    "tie_obj = tie.Tie()\n",
    "note1.tie = tie_obj\n",
    "note2.tie = tie_obj\n",
    "\n",
    "# Créer une partition et ajouter les mesures\n",
    "score = stream.Score()\n",
    "score.append(measure1)\n",
    "score.append(measure2)\n",
    "\n",
    "# Afficher ou exporter la partition\n",
    "score.show()"
   ]
  },
  {
   "cell_type": "code",
   "execution_count": null,
   "id": "42854e23",
   "metadata": {},
   "outputs": [],
   "source": [
    "print([1,2,3][:2])"
   ]
  },
  {
   "cell_type": "code",
   "execution_count": null,
   "id": "9181ddf3",
   "metadata": {},
   "outputs": [],
   "source": []
  },
  {
   "cell_type": "code",
   "execution_count": null,
   "id": "380099af",
   "metadata": {},
   "outputs": [],
   "source": []
  }
 ],
 "metadata": {
  "kernelspec": {
   "display_name": "kernel_pytorch",
   "language": "python",
   "name": "envtorch"
  },
  "language_info": {
   "codemirror_mode": {
    "name": "ipython",
    "version": 3
   },
   "file_extension": ".py",
   "mimetype": "text/x-python",
   "name": "python",
   "nbconvert_exporter": "python",
   "pygments_lexer": "ipython3",
   "version": "3.7.16"
  }
 },
 "nbformat": 4,
 "nbformat_minor": 5
}
