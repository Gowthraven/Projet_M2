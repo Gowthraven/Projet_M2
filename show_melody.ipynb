{
 "cells": [
  {
   "cell_type": "markdown",
   "id": "1228d92c-f1c5-4a02-925c-822a33c12f56",
   "metadata": {},
   "source": [
    "## Visualisation"
   ]
  },
  {
   "cell_type": "code",
   "execution_count": 1,
   "id": "d9094875-5d19-464b-b62d-f22e7c3571e6",
   "metadata": {},
   "outputs": [],
   "source": [
    "import music21\n",
    "import os\n",
    "from music21 import *\n",
    "import json\n",
    "from visualization import *\n",
    "from extract_data import *"
   ]
  },
  {
   "cell_type": "code",
   "execution_count": 2,
   "id": "456976a6-259b-49f3-a481-0a2520b273ef",
   "metadata": {},
   "outputs": [],
   "source": [
    "us=music21.environment.UserSettings()\n",
    "us.restoreDefaults()"
   ]
  },
  {
   "cell_type": "code",
   "execution_count": 14,
   "id": "98e017f5-a188-4002-9376-10f749e14c3b",
   "metadata": {},
   "outputs": [],
   "source": [
    "#Morgan (Windows)\n",
    "music21.environment.set('musescoreDirectPNGPath',str(os.path.join(\"C:\\\\\", \"Program Files\",\"MuseScore 4\",\"bin\",\"MuseScore4.exe\")))\n",
    "music21.environment.set('musicxmlPath', str(os.path.join(\"C:\\\\\", \"Program Files\",\"MuseScore 4\",\"bin\",\"MuseScore4.exe\")))\n",
    "music21.environment.set('lilypondPath', r'C:\\Users\\jeffs\\lilypond-2.24.2\\bin\\lilypond.exe')"
   ]
  },
  {
   "cell_type": "code",
   "execution_count": 3,
   "id": "1f5f1b35",
   "metadata": {},
   "outputs": [],
   "source": [
    "#Folk (Windows)\n",
    "music21.environment.set('musescoreDirectPNGPath',str(os.path.join(\"C:\\\\\", \"Program Files\",\"MuseScore 4\",\"bin\",\"MuseScore4.exe\")))\n",
    "music21.environment.set('musicxmlPath', str(os.path.join(\"C:\\\\\", \"Program Files\",\"MuseScore 4\",\"bin\",\"MuseScore4.exe\")))\n",
    "#music21.environment.set('lilypondPath', r'C:\\Users\\jeffs\\lilypond-2.24.2\\bin\\lilypond.exe')"
   ]
  },
  {
   "cell_type": "code",
   "execution_count": null,
   "id": "321a7398",
   "metadata": {
    "scrolled": true
   },
   "outputs": [],
   "source": [
    "show_all_generated(\"Generated/Markov_C.json\").show(\"musicxml\")"
   ]
  },
  {
   "cell_type": "code",
   "execution_count": null,
   "id": "e9b57bc6",
   "metadata": {},
   "outputs": [],
   "source": []
  }
 ],
 "metadata": {
  "kernelspec": {
   "display_name": "py311",
   "language": "python",
   "name": "py311"
  },
  "language_info": {
   "codemirror_mode": {
    "name": "ipython",
    "version": 3
   },
   "file_extension": ".py",
   "mimetype": "text/x-python",
   "name": "python",
   "nbconvert_exporter": "python",
   "pygments_lexer": "ipython3",
   "version": "3.11.0"
  }
 },
 "nbformat": 4,
 "nbformat_minor": 5
}
