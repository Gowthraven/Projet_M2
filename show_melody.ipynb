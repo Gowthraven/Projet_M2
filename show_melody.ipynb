{
 "cells": [
  {
   "cell_type": "markdown",
   "id": "1228d92c-f1c5-4a02-925c-822a33c12f56",
   "metadata": {},
   "source": [
    "## Visualisation"
   ]
  },
  {
   "cell_type": "code",
   "execution_count": null,
   "id": "d9094875-5d19-464b-b62d-f22e7c3571e6",
   "metadata": {},
   "outputs": [],
   "source": [
    "import music21\n",
    "import os\n",
    "from music21 import *\n",
    "import json\n",
    "from visualization import *\n",
    "from extract_data import *\n",
    "import numpy as np"
   ]
  },
  {
   "cell_type": "code",
   "execution_count": null,
   "id": "202923ae",
   "metadata": {},
   "outputs": [],
   "source": [
    "compare_all_generated(\"Generated/LSTM/melody4_mode0.json\").show(\"musicxml\")"
   ]
  },
  {
   "cell_type": "code",
   "execution_count": null,
   "id": "243a6a1e",
   "metadata": {},
   "outputs": [],
   "source": [
    "test=visualize(\"2/4\",[\"F\",\"B\",\"F\"],[[\"A4-0.5\", \"A4-0.5\", \"D4-0.5\", \"B3-1.0\", \"A4-2.0\", \"B3-0.25\", \"D4-0.5\", \"D4-0.5\", \"D4-0.5\", \"B3-0.25\"],[\"A4-0.5\", \"A4-0.5\", \"D4-0.5\", \"B3-1.0\", \"A4-2.0\", \"B3-0.25\", \"D4-0.5\", \"D4-0.5\", \"D4-0.5\", \"B3-0.25\"],[\"A4-0.5\", \"A4-0.5\", \"D4-0.5\", \"B3-1.0\", \"A4-2.0\", \"B3-0.25\", \"D4-0.5\", \"D4-0.5\", \"D4-0.5\", \"B3-0.25\"]])"
   ]
  },
  {
   "cell_type": "code",
   "execution_count": null,
   "id": "ddc15d32",
   "metadata": {},
   "outputs": [],
   "source": [
    "test.show(\"musicxml\")"
   ]
  },
  {
   "cell_type": "code",
   "execution_count": null,
   "id": "27e5569d",
   "metadata": {},
   "outputs": [],
   "source": [
    "visualize(\"2/4\",[\"F\",\"F\"],[[\"A4-0.5\", \"A4-0.5\", \"D4-0.5\", \"B3-1.0\", \"A4-2.0\", \"B3-0.25\", \"D4-0.5\", \"D4-0.5\", \"D4-0.5\", \"B3-0.25\",\"A4-0.5\", \"A4-0.5\", \"D4-0.5\", \"B3-1.0\", \"A4-2.0\", \"B3-0.25\", \"D4-0.5\", \"D4-0.5\", \"D4-0.5\", \"B3-0.25\",\"A4-0.5\", \"A4-0.5\", \"D4-0.5\", \"B3-1.0\", \"A4-2.0\", \"B3-0.25\", \"D4-0.5\", \"D4-0.5\", \"D4-0.5\", \"B3-0.25\"] , [\"D4-0.5\", \"B3-0.25\"]]).show(\"musicxml\")"
   ]
  },
  {
   "cell_type": "code",
   "execution_count": null,
   "id": "9a617bc5",
   "metadata": {},
   "outputs": [],
   "source": [
    "from music21 import *\n",
    "\n",
    "# Create melodies\n",
    "melody1_notes = [\"C4\", \"D4\", \"E4\", \"F4\", \"G4\", \"A4\", \"B4\", \"C5\"]\n",
    "melody2_notes = [\"E4\", \"G4\", \"B4\", \"C5\", \"D5\", \"C5\", \"B4\", \"A4\"]\n",
    "\n",
    "# Create streams for melodies\n",
    "melody1_stream = stream.Stream()\n",
    "melody2_stream = stream.Stream()\n",
    "\n",
    "# Add notes to streams\n",
    "for notes in melody1_notes:\n",
    "    melody1_stream.append(note.Note(notes))\n",
    "for notes in melody2_notes:\n",
    "    melody2_stream.append(note.Note(notes))\n",
    "\n",
    "# Create a score and add melodies\n",
    "score = stream.Score()\n",
    "score.insert(0, melody1_stream)\n",
    "score.insert(0, melody2_stream)\n",
    "\n",
    "# Show the score\n",
    "score.show(\"musicxml\")"
   ]
  },
  {
   "cell_type": "code",
   "execution_count": null,
   "id": "231ec4d9",
   "metadata": {},
   "outputs": [],
   "source": [
    "print(n_measure([\"A4-0.5\", \"A4-0.5\", \"D4-0.5\", \"B3-0.5\", \"A4-1.0\", \"B3-0.25\", \"D4-0.5\", \"D4-0.5\", \"D4-0.5\", \"B3-0.25\"],1,\"2/4\"))"
   ]
  },
  {
   "cell_type": "code",
   "execution_count": null,
   "id": "0bd72532",
   "metadata": {},
   "outputs": [],
   "source": [
    "len(\"<music21.expressions.RehearsalMark 'A'>\")\n",
    "print(\"<music21.expressions.RehearsalMark 'A'>\"[36:-2])"
   ]
  },
  {
   "cell_type": "code",
   "execution_count": null,
   "id": "456976a6-259b-49f3-a481-0a2520b273ef",
   "metadata": {},
   "outputs": [],
   "source": [
    "us=music21.environment.UserSettings()\n",
    "us.restoreDefaults()"
   ]
  },
  {
   "cell_type": "code",
   "execution_count": null,
   "id": "98e017f5-a188-4002-9376-10f749e14c3b",
   "metadata": {},
   "outputs": [],
   "source": [
    "#Morgan (Windows)\n",
    "music21.environment.set('musescoreDirectPNGPath',str(os.path.join(\"C:\\\\\", \"Program Files\",\"MuseScore 4\",\"bin\",\"MuseScore4.exe\")))\n",
    "music21.environment.set('musicxmlPath', str(os.path.join(\"C:\\\\\", \"Program Files\",\"MuseScore 4\",\"bin\",\"MuseScore4.exe\")))\n",
    "music21.environment.set('lilypondPath', r'C:\\Users\\jeffs\\lilypond-2.24.2\\bin\\lilypond.exe')"
   ]
  },
  {
   "cell_type": "code",
   "execution_count": null,
   "id": "1f5f1b35",
   "metadata": {},
   "outputs": [],
   "source": [
    "#Folk (Windows)\n",
    "music21.environment.set('musescoreDirectPNGPath',str(os.path.join(\"C:\\\\\", \"Program Files\",\"MuseScore 4\",\"bin\",\"MuseScore4.exe\")))\n",
    "music21.environment.set('musicxmlPath', str(os.path.join(\"C:\\\\\", \"Program Files\",\"MuseScore 4\",\"bin\",\"MuseScore4.exe\")))\n",
    "#music21.environment.set('lilypondPath', r'C:\\Users\\jeffs\\lilypond-2.24.2\\bin\\lilypond.exe')"
   ]
  },
  {
   "cell_type": "code",
   "execution_count": null,
   "id": "e98963a2",
   "metadata": {},
   "outputs": [],
   "source": [
    "fileName=\"Genarated/Transformer/mode0.json\"\n",
    "show_all_generated(f\"Generated/{fileName}.json\").show(\"musicxml\")"
   ]
  },
  {
   "cell_type": "code",
   "execution_count": null,
   "id": "12185038-59e4-4777-975b-de2246cba0c5",
   "metadata": {},
   "outputs": [],
   "source": [
    "  \n",
    "fileName=\"Generated/Transformer/melody3_mode2_top20.json\"\n",
    "avg,std=compute_stat(fileName)\n",
    "print(avg,std)"
   ]
  },
  {
   "cell_type": "code",
   "execution_count": null,
   "id": "321a7398",
   "metadata": {
    "scrolled": true
   },
   "outputs": [],
   "source": [
    "show_all_generated(f\"Generated/{fileName}.json\").show(\"musicxml\")"
   ]
  },
  {
   "cell_type": "code",
   "execution_count": null,
   "id": "d808a6a5",
   "metadata": {},
   "outputs": [],
   "source": [
    "score=show_all_generated(f\"Generated/{fileName}.json\")"
   ]
  },
  {
   "cell_type": "code",
   "execution_count": null,
   "id": "e9b57bc6",
   "metadata": {},
   "outputs": [],
   "source": [
    "path=\"data/data_xml\"\n",
    "s=open_one_xml(path,\"SAMAMBAIA.xml\")\n",
    "show_stat(s)"
   ]
  },
  {
   "cell_type": "code",
   "execution_count": null,
   "id": "fded5991",
   "metadata": {},
   "outputs": [],
   "source": [
    "visualize_test(\"2/4\",[\"F\"],[\"A4\",<0.5, A4-0.5, D4-0.5, B3-1.0, A4-2.0, B3-0.25, D4-0.5, D4-0.5, D4-0.5, B3-0.25\"]).show()"
   ]
  },
  {
   "cell_type": "code",
   "execution_count": null,
   "id": "e6e7430d",
   "metadata": {},
   "outputs": [],
   "source": []
  },
  {
   "cell_type": "code",
   "execution_count": null,
   "id": "d75ef3ed",
   "metadata": {},
   "outputs": [],
   "source": [
    "from music21 import stream, note, tie\n",
    "\n",
    "# Créer une mesure avec une note\n",
    "measure1 = stream.Measure()\n",
    "note1 = note.Note(\"C4\", quarterLength=1.0)\n",
    "measure1.append(note1)\n",
    "\n",
    "# Créer une mesure suivante avec la même note\n",
    "measure2 = stream.Measure()\n",
    "note2 = note.Note(\"C4\", quarterLength=1.0)\n",
    "measure2.append(note2)\n",
    "\n",
    "# Créer une liaison entre les deux notes\n",
    "tie_obj = tie.Tie()\n",
    "note1.tie = tie_obj\n",
    "note2.tie = tie_obj\n",
    "\n",
    "# Créer une partition et ajouter les mesures\n",
    "score = stream.Score()\n",
    "score.append(measure1)\n",
    "score.append(measure2)\n",
    "\n",
    "# Afficher ou exporter la partition\n",
    "score.show()"
   ]
  },
  {
   "cell_type": "code",
   "execution_count": null,
   "id": "42854e23",
   "metadata": {},
   "outputs": [],
   "source": [
    "print([1,2,3][:2])"
   ]
  },
  {
   "cell_type": "code",
   "execution_count": null,
   "id": "9181ddf3",
   "metadata": {},
   "outputs": [],
   "source": []
  },
  {
   "cell_type": "code",
   "execution_count": null,
   "id": "380099af",
   "metadata": {},
   "outputs": [],
   "source": []
  }
 ],
 "metadata": {
  "kernelspec": {
   "display_name": "py311",
   "language": "python",
   "name": "py311"
  },
  "language_info": {
   "codemirror_mode": {
    "name": "ipython",
    "version": 3
   },
   "file_extension": ".py",
   "mimetype": "text/x-python",
   "name": "python",
   "nbconvert_exporter": "python",
   "pygments_lexer": "ipython3",
   "version": "3.11.0"
  }
 },
 "nbformat": 4,
 "nbformat_minor": 5
}
